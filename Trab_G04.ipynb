{
 "cells": [
  {
   "cell_type": "code",
   "execution_count": 1,
   "id": "8e8655e0",
   "metadata": {},
   "outputs": [],
   "source": [
    "import pandas as pd\n",
    "import geopandas as gpd\n",
    "import matplotlib.pyplot as plt\n",
    "import numpy as np\n",
    "#import plotly.express as px\n",
    "\n",
    "import shapely # gera as figuras geométricas\n",
    "import descartes # relacionar-se bem com matplotlib\n",
    "import pyproj # projeções. Transformação de Coordenadas\n",
    "\n",
    "#import seaborn as sns"
   ]
  },
  {
   "cell_type": "code",
   "execution_count": 36,
   "id": "4616a151",
   "metadata": {},
   "outputs": [],
   "source": [
    "data_location = \"../Data/Real_State_Properati.csv\"\n",
    "\n",
    "df_prop = pd.read_csv(data_location, \n",
    "                      sep = '\\t', \n",
    "                     )"
   ]
  },
  {
   "cell_type": "code",
   "execution_count": 37,
   "id": "0d19ef5a",
   "metadata": {},
   "outputs": [
    {
     "data": {
      "text/html": [
       "<div>\n",
       "<style scoped>\n",
       "    .dataframe tbody tr th:only-of-type {\n",
       "        vertical-align: middle;\n",
       "    }\n",
       "\n",
       "    .dataframe tbody tr th {\n",
       "        vertical-align: top;\n",
       "    }\n",
       "\n",
       "    .dataframe thead th {\n",
       "        text-align: right;\n",
       "    }\n",
       "</style>\n",
       "<table border=\"1\" class=\"dataframe\">\n",
       "  <thead>\n",
       "    <tr style=\"text-align: right;\">\n",
       "      <th></th>\n",
       "      <th>property_type</th>\n",
       "      <th>place_name</th>\n",
       "      <th>country_name</th>\n",
       "      <th>state_name</th>\n",
       "      <th>lat</th>\n",
       "      <th>lon</th>\n",
       "      <th>price</th>\n",
       "      <th>currency</th>\n",
       "      <th>surface_total_in_m2</th>\n",
       "    </tr>\n",
       "  </thead>\n",
       "  <tbody>\n",
       "    <tr>\n",
       "      <th>0</th>\n",
       "      <td>PH</td>\n",
       "      <td>Mataderos</td>\n",
       "      <td>Argentina</td>\n",
       "      <td>Capital Federal</td>\n",
       "      <td>-34.661824</td>\n",
       "      <td>-58.508839</td>\n",
       "      <td>62000.0</td>\n",
       "      <td>USD</td>\n",
       "      <td>55.0</td>\n",
       "    </tr>\n",
       "    <tr>\n",
       "      <th>1</th>\n",
       "      <td>apartment</td>\n",
       "      <td>Mataderos</td>\n",
       "      <td>Argentina</td>\n",
       "      <td>Capital Federal</td>\n",
       "      <td>-34.652262</td>\n",
       "      <td>-58.522982</td>\n",
       "      <td>72000.0</td>\n",
       "      <td>USD</td>\n",
       "      <td>55.0</td>\n",
       "    </tr>\n",
       "    <tr>\n",
       "      <th>2</th>\n",
       "      <td>apartment</td>\n",
       "      <td>Belgrano</td>\n",
       "      <td>Argentina</td>\n",
       "      <td>Capital Federal</td>\n",
       "      <td>-34.559873</td>\n",
       "      <td>-58.443362</td>\n",
       "      <td>138000.0</td>\n",
       "      <td>USD</td>\n",
       "      <td>45.0</td>\n",
       "    </tr>\n",
       "    <tr>\n",
       "      <th>3</th>\n",
       "      <td>apartment</td>\n",
       "      <td>Belgrano</td>\n",
       "      <td>Argentina</td>\n",
       "      <td>Capital Federal</td>\n",
       "      <td>-34.559873</td>\n",
       "      <td>-58.443362</td>\n",
       "      <td>195000.0</td>\n",
       "      <td>USD</td>\n",
       "      <td>65.0</td>\n",
       "    </tr>\n",
       "    <tr>\n",
       "      <th>4</th>\n",
       "      <td>PH</td>\n",
       "      <td>Mataderos</td>\n",
       "      <td>Argentina</td>\n",
       "      <td>Capital Federal</td>\n",
       "      <td>-34.652356</td>\n",
       "      <td>-58.501624</td>\n",
       "      <td>239000.0</td>\n",
       "      <td>USD</td>\n",
       "      <td>140.0</td>\n",
       "    </tr>\n",
       "    <tr>\n",
       "      <th>...</th>\n",
       "      <td>...</td>\n",
       "      <td>...</td>\n",
       "      <td>...</td>\n",
       "      <td>...</td>\n",
       "      <td>...</td>\n",
       "      <td>...</td>\n",
       "      <td>...</td>\n",
       "      <td>...</td>\n",
       "      <td>...</td>\n",
       "    </tr>\n",
       "    <tr>\n",
       "      <th>17218</th>\n",
       "      <td>apartment</td>\n",
       "      <td>Barrio Norte</td>\n",
       "      <td>Argentina</td>\n",
       "      <td>Capital Federal</td>\n",
       "      <td>-34.599214</td>\n",
       "      <td>-58.402519</td>\n",
       "      <td>165000.0</td>\n",
       "      <td>USD</td>\n",
       "      <td>91.0</td>\n",
       "    </tr>\n",
       "    <tr>\n",
       "      <th>17219</th>\n",
       "      <td>apartment</td>\n",
       "      <td>Recoleta</td>\n",
       "      <td>Argentina</td>\n",
       "      <td>Capital Federal</td>\n",
       "      <td>-34.587425</td>\n",
       "      <td>-58.397372</td>\n",
       "      <td>165000.0</td>\n",
       "      <td>USD</td>\n",
       "      <td>44.0</td>\n",
       "    </tr>\n",
       "    <tr>\n",
       "      <th>17220</th>\n",
       "      <td>apartment</td>\n",
       "      <td>Belgrano</td>\n",
       "      <td>Argentina</td>\n",
       "      <td>Capital Federal</td>\n",
       "      <td>-34.563685</td>\n",
       "      <td>-58.442683</td>\n",
       "      <td>410000.0</td>\n",
       "      <td>USD</td>\n",
       "      <td>157.0</td>\n",
       "    </tr>\n",
       "    <tr>\n",
       "      <th>17221</th>\n",
       "      <td>apartment</td>\n",
       "      <td>Belgrano</td>\n",
       "      <td>Argentina</td>\n",
       "      <td>Capital Federal</td>\n",
       "      <td>-34.563685</td>\n",
       "      <td>-58.442683</td>\n",
       "      <td>410000.0</td>\n",
       "      <td>USD</td>\n",
       "      <td>157.0</td>\n",
       "    </tr>\n",
       "    <tr>\n",
       "      <th>17222</th>\n",
       "      <td>apartment</td>\n",
       "      <td>Villa Urquiza</td>\n",
       "      <td>Argentina</td>\n",
       "      <td>Capital Federal</td>\n",
       "      <td>-34.570639</td>\n",
       "      <td>-58.475596</td>\n",
       "      <td>131500.0</td>\n",
       "      <td>USD</td>\n",
       "      <td>46.0</td>\n",
       "    </tr>\n",
       "  </tbody>\n",
       "</table>\n",
       "<p>17223 rows × 9 columns</p>\n",
       "</div>"
      ],
      "text/plain": [
       "      property_type     place_name country_name       state_name        lat  \\\n",
       "0                PH      Mataderos    Argentina  Capital Federal -34.661824   \n",
       "1         apartment      Mataderos    Argentina  Capital Federal -34.652262   \n",
       "2         apartment       Belgrano    Argentina  Capital Federal -34.559873   \n",
       "3         apartment       Belgrano    Argentina  Capital Federal -34.559873   \n",
       "4                PH      Mataderos    Argentina  Capital Federal -34.652356   \n",
       "...             ...            ...          ...              ...        ...   \n",
       "17218     apartment   Barrio Norte    Argentina  Capital Federal -34.599214   \n",
       "17219     apartment       Recoleta    Argentina  Capital Federal -34.587425   \n",
       "17220     apartment       Belgrano    Argentina  Capital Federal -34.563685   \n",
       "17221     apartment       Belgrano    Argentina  Capital Federal -34.563685   \n",
       "17222     apartment  Villa Urquiza    Argentina  Capital Federal -34.570639   \n",
       "\n",
       "             lon     price currency  surface_total_in_m2  \n",
       "0     -58.508839   62000.0      USD                 55.0  \n",
       "1     -58.522982   72000.0      USD                 55.0  \n",
       "2     -58.443362  138000.0      USD                 45.0  \n",
       "3     -58.443362  195000.0      USD                 65.0  \n",
       "4     -58.501624  239000.0      USD                140.0  \n",
       "...          ...       ...      ...                  ...  \n",
       "17218 -58.402519  165000.0      USD                 91.0  \n",
       "17219 -58.397372  165000.0      USD                 44.0  \n",
       "17220 -58.442683  410000.0      USD                157.0  \n",
       "17221 -58.442683  410000.0      USD                157.0  \n",
       "17222 -58.475596  131500.0      USD                 46.0  \n",
       "\n",
       "[17223 rows x 9 columns]"
      ]
     },
     "execution_count": 37,
     "metadata": {},
     "output_type": "execute_result"
    }
   ],
   "source": [
    "df_prop"
   ]
  },
  {
   "cell_type": "code",
   "execution_count": 38,
   "id": "e9ed3454",
   "metadata": {},
   "outputs": [
    {
     "data": {
      "text/plain": [
       "0"
      ]
     },
     "execution_count": 38,
     "metadata": {},
     "output_type": "execute_result"
    }
   ],
   "source": [
    "df_prop.isnull().sum().sum() #se tiver algum null vai identificar"
   ]
  },
  {
   "cell_type": "code",
   "execution_count": 39,
   "id": "85d564ec",
   "metadata": {},
   "outputs": [
    {
     "data": {
      "text/plain": [
       "property_type          0\n",
       "place_name             0\n",
       "country_name           0\n",
       "state_name             0\n",
       "lat                    0\n",
       "lon                    0\n",
       "price                  0\n",
       "currency               0\n",
       "surface_total_in_m2    0\n",
       "dtype: int64"
      ]
     },
     "execution_count": 39,
     "metadata": {},
     "output_type": "execute_result"
    }
   ],
   "source": [
    "df_prop.isnull().sum()"
   ]
  },
  {
   "cell_type": "code",
   "execution_count": 40,
   "id": "29897439",
   "metadata": {},
   "outputs": [
    {
     "data": {
      "text/plain": [
       "property_type           object\n",
       "place_name              object\n",
       "country_name            object\n",
       "state_name              object\n",
       "lat                    float64\n",
       "lon                    float64\n",
       "price                  float64\n",
       "currency                object\n",
       "surface_total_in_m2    float64\n",
       "dtype: object"
      ]
     },
     "execution_count": 40,
     "metadata": {},
     "output_type": "execute_result"
    }
   ],
   "source": [
    "df_prop.dtypes"
   ]
  },
  {
   "cell_type": "code",
   "execution_count": 41,
   "id": "8c517bca",
   "metadata": {},
   "outputs": [
    {
     "data": {
      "text/html": [
       "<div>\n",
       "<style scoped>\n",
       "    .dataframe tbody tr th:only-of-type {\n",
       "        vertical-align: middle;\n",
       "    }\n",
       "\n",
       "    .dataframe tbody tr th {\n",
       "        vertical-align: top;\n",
       "    }\n",
       "\n",
       "    .dataframe thead th {\n",
       "        text-align: right;\n",
       "    }\n",
       "</style>\n",
       "<table border=\"1\" class=\"dataframe\">\n",
       "  <thead>\n",
       "    <tr style=\"text-align: right;\">\n",
       "      <th></th>\n",
       "      <th>lat</th>\n",
       "      <th>lon</th>\n",
       "      <th>price</th>\n",
       "      <th>surface_total_in_m2</th>\n",
       "    </tr>\n",
       "  </thead>\n",
       "  <tbody>\n",
       "    <tr>\n",
       "      <th>count</th>\n",
       "      <td>17223.000000</td>\n",
       "      <td>17223.000000</td>\n",
       "      <td>1.722300e+04</td>\n",
       "      <td>17223.000000</td>\n",
       "    </tr>\n",
       "    <tr>\n",
       "      <th>mean</th>\n",
       "      <td>-34.600541</td>\n",
       "      <td>-58.434354</td>\n",
       "      <td>3.567353e+05</td>\n",
       "      <td>117.989665</td>\n",
       "    </tr>\n",
       "    <tr>\n",
       "      <th>std</th>\n",
       "      <td>0.039048</td>\n",
       "      <td>0.055797</td>\n",
       "      <td>1.183132e+06</td>\n",
       "      <td>1534.549462</td>\n",
       "    </tr>\n",
       "    <tr>\n",
       "      <th>min</th>\n",
       "      <td>-38.416097</td>\n",
       "      <td>-63.616672</td>\n",
       "      <td>5.500000e+03</td>\n",
       "      <td>0.000000</td>\n",
       "    </tr>\n",
       "    <tr>\n",
       "      <th>25%</th>\n",
       "      <td>-34.620026</td>\n",
       "      <td>-58.463026</td>\n",
       "      <td>1.080000e+05</td>\n",
       "      <td>44.000000</td>\n",
       "    </tr>\n",
       "    <tr>\n",
       "      <th>50%</th>\n",
       "      <td>-34.600937</td>\n",
       "      <td>-58.434584</td>\n",
       "      <td>1.634760e+05</td>\n",
       "      <td>66.000000</td>\n",
       "    </tr>\n",
       "    <tr>\n",
       "      <th>75%</th>\n",
       "      <td>-34.581559</td>\n",
       "      <td>-58.402708</td>\n",
       "      <td>3.000000e+05</td>\n",
       "      <td>116.000000</td>\n",
       "    </tr>\n",
       "    <tr>\n",
       "      <th>max</th>\n",
       "      <td>-34.535096</td>\n",
       "      <td>-58.354956</td>\n",
       "      <td>5.000000e+07</td>\n",
       "      <td>200000.000000</td>\n",
       "    </tr>\n",
       "  </tbody>\n",
       "</table>\n",
       "</div>"
      ],
      "text/plain": [
       "                lat           lon         price  surface_total_in_m2\n",
       "count  17223.000000  17223.000000  1.722300e+04         17223.000000\n",
       "mean     -34.600541    -58.434354  3.567353e+05           117.989665\n",
       "std        0.039048      0.055797  1.183132e+06          1534.549462\n",
       "min      -38.416097    -63.616672  5.500000e+03             0.000000\n",
       "25%      -34.620026    -58.463026  1.080000e+05            44.000000\n",
       "50%      -34.600937    -58.434584  1.634760e+05            66.000000\n",
       "75%      -34.581559    -58.402708  3.000000e+05           116.000000\n",
       "max      -34.535096    -58.354956  5.000000e+07        200000.000000"
      ]
     },
     "execution_count": 41,
     "metadata": {},
     "output_type": "execute_result"
    }
   ],
   "source": [
    "df_prop.describe()"
   ]
  },
  {
   "cell_type": "code",
   "execution_count": 42,
   "id": "551d700a",
   "metadata": {},
   "outputs": [
    {
     "name": "stdout",
     "output_type": "stream",
     "text": [
      "['PH' 'apartment' 'house' 'store']\n",
      "['Argentina']\n",
      "['Capital Federal']\n",
      "['Mataderos' 'Belgrano' 'Palermo' 'Flores' 'Boedo' 'Las Cañitas'\n",
      " 'Puerto Madero' 'Balvanera' 'Caballito' 'Nuñez' 'Floresta' 'Barracas'\n",
      " 'Recoleta' 'Congreso' 'Villa Crespo' 'Chacarita' 'Almagro' 'Constitución'\n",
      " 'Colegiales' 'Villa Urquiza' 'Barrio Norte' 'Palermo Hollywood'\n",
      " 'Saavedra' 'Paternal' 'Agronomía' 'Villa Pueyrredón' 'Coghlan'\n",
      " 'Parque Centenario' 'San Telmo' 'Monserrat' 'Boca' 'Parque Avellaneda'\n",
      " 'San Cristobal' 'Abasto' 'Versalles' 'Villa del Parque' 'Monte Castro'\n",
      " 'Retiro' 'Capital Federal' 'Parque Chas' 'Palermo Chico' 'Villa Devoto'\n",
      " 'Palermo Soho' 'Centro / Microcentro' 'Liniers' 'Tribunales' 'Once'\n",
      " 'San Nicolás' 'Parque Chacabuco' 'Velez Sarsfield' 'Catalinas' 'Pompeya'\n",
      " 'Parque Patricios' 'Palermo Viejo' 'Villa Lugano' 'Villa Luro'\n",
      " 'Villa General Mitre' 'Villa Ortuzar' 'Villa Santa Rita' 'Villa Soldati'\n",
      " 'Villa Real' 'Villa Riachuelo']\n",
      "['USD' 'ARS']\n"
     ]
    }
   ],
   "source": [
    "print(df_prop['property_type'].unique())\n",
    "print(df_prop['country_name'].unique())\n",
    "print(df_prop['state_name'].unique())\n",
    "print(df_prop['place_name'].unique())\n",
    "print(df_prop['currency'].unique())"
   ]
  },
  {
   "cell_type": "code",
   "execution_count": 43,
   "id": "65340b1a",
   "metadata": {},
   "outputs": [
    {
     "data": {
      "text/plain": [
       "property_type          523\n",
       "place_name             523\n",
       "country_name           523\n",
       "state_name             523\n",
       "lat                    523\n",
       "lon                    523\n",
       "price                  523\n",
       "currency               523\n",
       "surface_total_in_m2    523\n",
       "dtype: int64"
      ]
     },
     "execution_count": 43,
     "metadata": {},
     "output_type": "execute_result"
    }
   ],
   "source": [
    "#df_prop['currency']== 'ARS'\n",
    "df_prop[df_prop['currency']=='ARS'].count()"
   ]
  },
  {
   "cell_type": "code",
   "execution_count": 44,
   "id": "3ca120bf",
   "metadata": {},
   "outputs": [],
   "source": [
    "ars_usd = 0.0085\n",
    "df_prop['price'] = df_prop[df_prop['currency']=='ARS'].price.apply(lambda x: x * ars_usd)\n"
   ]
  },
  {
   "cell_type": "code",
   "execution_count": 45,
   "id": "8c963744",
   "metadata": {},
   "outputs": [
    {
     "data": {
      "text/plain": [
       "58        9344.4750\n",
       "59        9464.0700\n",
       "60        9585.4500\n",
       "61        9706.8300\n",
       "62       11283.8775\n",
       "            ...    \n",
       "16977    19866.4805\n",
       "17021     5525.0000\n",
       "17113    25160.0000\n",
       "17165    22535.2000\n",
       "17170     1147.5000\n",
       "Name: price, Length: 523, dtype: float64"
      ]
     },
     "execution_count": 45,
     "metadata": {},
     "output_type": "execute_result"
    }
   ],
   "source": [
    "df_prop[df_prop['currency']=='ARS'].price"
   ]
  },
  {
   "cell_type": "code",
   "execution_count": null,
   "id": "3b874d05",
   "metadata": {},
   "outputs": [],
   "source": []
  }
 ],
 "metadata": {
  "kernelspec": {
   "display_name": "Python 3 (ipykernel)",
   "language": "python",
   "name": "python3"
  },
  "language_info": {
   "codemirror_mode": {
    "name": "ipython",
    "version": 3
   },
   "file_extension": ".py",
   "mimetype": "text/x-python",
   "name": "python",
   "nbconvert_exporter": "python",
   "pygments_lexer": "ipython3",
   "version": "3.7.13"
  }
 },
 "nbformat": 4,
 "nbformat_minor": 5
}
